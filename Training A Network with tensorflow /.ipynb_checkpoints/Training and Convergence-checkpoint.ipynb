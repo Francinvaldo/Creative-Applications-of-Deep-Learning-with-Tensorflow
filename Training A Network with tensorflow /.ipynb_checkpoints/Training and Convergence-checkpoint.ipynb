{
 "cells": [
  {
   "cell_type": "markdown",
   "metadata": {},
   "source": [
    "# Training and Convergence\n"
   ]
  },
  {
   "cell_type": "markdown",
   "metadata": {},
   "source": [
    "Treinamento e Convergência\n",
    " \n",
    "\n",
    "Um componente-chave da maior parte da inteligência artificial e da aprendizagem por máquinas é o loop, ou seja, o sistema está melhorando em muitas iterações de treinamento. Um método muito simples para treinar dessa maneira é apenas para executar atualizações em um loop."
   ]
  },
  {
   "cell_type": "code",
   "execution_count": 31,
   "metadata": {
    "collapsed": true
   },
   "outputs": [],
   "source": [
    "import tensorflow as tf"
   ]
  },
  {
   "cell_type": "code",
   "execution_count": 32,
   "metadata": {
    "collapsed": true
   },
   "outputs": [],
   "source": [
    "x = tf.Variable(0)\n",
    "\n",
    "modelo = tf.global_variables_initializer()"
   ]
  },
  {
   "cell_type": "code",
   "execution_count": 33,
   "metadata": {},
   "outputs": [
    {
     "name": "stdout",
     "output_type": "stream",
     "text": [
      "1\n",
      "2\n",
      "3\n",
      "4\n",
      "5\n"
     ]
    }
   ],
   "source": [
    "with tf.Session() as sess:\n",
    "    for i in range(5):\n",
    "        sess.run(modelo)\n",
    "        x = x+1\n",
    "        print(sess.run(x))"
   ]
  },
  {
   "cell_type": "code",
   "execution_count": 34,
   "metadata": {},
   "outputs": [
    {
     "name": "stdout",
     "output_type": "stream",
     "text": [
      "<tf.Variable 'Variable_15:0' shape=() dtype=float32_ref>\n",
      "Tensor(\"Const_9:0\", shape=(), dtype=float32)\n"
     ]
    }
   ],
   "source": [
    "z = tf.Variable(0.)\n",
    "threshold = tf.constant(5.)\n",
    "\n",
    "print(z)\n",
    "print(threshold)\n",
    "\n",
    "model = tf.global_variables_initializer()\n"
   ]
  },
  {
   "cell_type": "code",
   "execution_count": 35,
   "metadata": {},
   "outputs": [
    {
     "name": "stdout",
     "output_type": "stream",
     "text": [
      "1.0\n",
      "2.0\n",
      "3.0\n",
      "4.0\n",
      "5.0\n"
     ]
    }
   ],
   "source": [
    "with tf.Session() as sess:\n",
    "    sess.run(model)\n",
    "    while sess.run(tf.less(z , threshold)):\n",
    "        z = z +1\n",
    "        x_value = sess.run(z)\n",
    "        print(x_value)\n",
    "        "
   ]
  },
  {
   "cell_type": "markdown",
   "metadata": {},
   "source": [
    "# Gradient Descent"
   ]
  },
  {
   "cell_type": "markdown",
   "metadata": {},
   "source": [
    "Qualquer biblioteca de aprendizado de máquina deve ter um algoritmo de descida de gradiente. Eu acho que é uma lei. De qualquer forma, o Tensorflow apresenta algumas variações no tema, e eles são bastante diretos para usar.\n",
    "\n",
    "Gradient Descent é um algoritmo de aprendizagem que tenta minimizar algum erro. Qual erro você pergunta? Bem, isso depende de nós, embora existam alguns métodos comumente usados."
   ]
  },
  {
   "cell_type": "code",
   "execution_count": 36,
   "metadata": {},
   "outputs": [
    {
     "name": "stdout",
     "output_type": "stream",
     "text": [
      "Predicted model: 5.026x + 6.026\n"
     ]
    }
   ],
   "source": [
    "import numpy as np\n",
    "import tensorflow as tf\n",
    "\n",
    "# x and y are placeholders for our training data\n",
    "x = tf.placeholder('float')\n",
    "y = tf.placeholder('float')\n",
    "\n",
    "# w is the variable storing our values. It is initialised with starting \"guesses\"\n",
    "# w[0] is the \"a\" in our equation, w[1] is the \"b\"\n",
    "w = tf.Variable([1. , 2. ] , name='w')\n",
    "# Our model of y = a*x + b\n",
    "y_model = tf.multiply(x , w[0]+w[1])\n",
    "\n",
    "# Our error is defined as the square of the differences\n",
    "error = tf.square(y - y_model)\n",
    "# The Gradient Descent Optimizer does the heavy lifting\n",
    "train_op  = tf.train.GradientDescentOptimizer(0.01).minimize(error)\n",
    "\n",
    "\n",
    "# Normal TensorFlow - initialize values, create a session and run the model\n",
    "modelo  = tf.global_variables_initializer()\n",
    "\n",
    "\n",
    "with  tf.Session() as sess:\n",
    "    sess.run(modelo)\n",
    "    for i in range(1000):\n",
    "        x_value = np.random.rand()\n",
    "        y_value = x_value * 2 + 6 \n",
    "        sess.run(train_op , feed_dict={x:x_value , y:y_value})\n",
    "    \n",
    "    \n",
    "    w_value = sess.run(w)\n",
    "    print(\"Predicted model: {a:.3f}x + {b:.3f}\".format(a=w_value[0], b=w_value[1]))\n",
    "        \n",
    "\n"
   ]
  },
  {
   "cell_type": "markdown",
   "metadata": {},
   "source": [
    "# referencias :\n",
    "   https://learningtensorflow.com/lesson7/\n",
    "   "
   ]
  },
  {
   "cell_type": "code",
   "execution_count": null,
   "metadata": {
    "collapsed": true
   },
   "outputs": [],
   "source": []
  }
 ],
 "metadata": {
  "kernelspec": {
   "display_name": "Python 3",
   "language": "python",
   "name": "python3"
  },
  "language_info": {
   "codemirror_mode": {
    "name": "ipython",
    "version": 3
   },
   "file_extension": ".py",
   "mimetype": "text/x-python",
   "name": "python",
   "nbconvert_exporter": "python",
   "pygments_lexer": "ipython3",
   "version": "3.5.2"
  }
 },
 "nbformat": 4,
 "nbformat_minor": 2
}
